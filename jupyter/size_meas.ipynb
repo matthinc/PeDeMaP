{
 "cells": [
  {
   "cell_type": "code",
   "execution_count": 89,
   "id": "fifth-marshall",
   "metadata": {},
   "outputs": [],
   "source": [
    "import json\n",
    "from payload_pb2 import SingleLocationData, LocationMessageWrapper, DensityMap, WarnMessage\n",
    "import gzip\n",
    "import random\n",
    "import math\n",
    "import statistics\n",
    "import matplotlib.pyplot as plt\n",
    "import numpy as np\n",
    "from google.protobuf.json_format import MessageToJson\n",
    "import matplotlib.patches as mpatches\n",
    "\n",
    "def random_single():\n",
    "    MAXINT = 2147483648\n",
    "    payload = SingleLocationData()\n",
    "    payload.deviceId = random.randint(0, MAXINT)\n",
    "    payload.timestamp = random.randint(0, MAXINT)\n",
    "    payload.zoneId = random.randint(0, 60)\n",
    "    payload.hemisphere = (random.randint(0, 1) == 0)\n",
    "    payload.northing = random.randint(0, 20000000)\n",
    "    payload.easting = random.randint(0, 700000)\n",
    "    payload.bearing = random.randint(0, 360)\n",
    "    payload.speed = random.randint(0, 150)\n",
    "    payload.accuracy = random.random() * 100.0\n",
    "    return payload\n",
    "    \n",
    "single_proto = random_single()\n",
    "\n",
    "wrapper_proto_single = LocationMessageWrapper()\n",
    "wrapper_proto_single.single.MergeFrom(single_proto)\n",
    "\n",
    "density_map = DensityMap()\n",
    "density_map.senderDeviceId = 123456\n",
    "density_map.data.extend([random_single(), random_single(), random_single(), random_single(), random_single()])\n",
    "\n",
    "wrapper_proto_multi = LocationMessageWrapper()\n",
    "wrapper_proto_multi.map.MergeFrom(density_map)\n",
    "\n",
    "warn_message = WarnMessage()\n",
    "warn_message.message = \"Test WarnMessage!\"\n",
    "warn_message.validUntil = 1613224171\n",
    "warn_message.latitude = 48.1640524\n",
    "warn_message.longitude = 11.5773456\n",
    "\n",
    "wrapper_proto_warn = LocationMessageWrapper()\n",
    "wrapper_proto_warn.message.MergeFrom(warn_message)\n",
    "\n"
   ]
  },
  {
   "cell_type": "code",
   "execution_count": 90,
   "id": "pregnant-department",
   "metadata": {},
   "outputs": [
    {
     "name": "stderr",
     "output_type": "stream",
     "text": [
      "<ipython-input-90-72d13704efc4>:24: UserWarning: FixedFormatter should only be used together with FixedLocator\n",
      "  ax.set_xticklabels(labels, rotation='vertical')\n"
     ]
    },
    {
     "data": {
      "text/plain": [
       "<BarContainer object of 1 artists>"
      ]
     },
     "execution_count": 90,
     "metadata": {},
     "output_type": "execute_result"
    },
    {
     "data": {
      "image/png": "[encoded data removed]",
      "text/plain": [
       "<Figure size 720x360 with 1 Axes>"
      ]
     },
     "metadata": {
      "needs_background": "light"
     },
     "output_type": "display_data"
    }
   ],
   "source": [
    "def test_sizes(proto):\n",
    "    len_proto = len(proto.SerializeToString())\n",
    "    len_json = len(MessageToJson(proto).encode('utf-8'))\n",
    "    len_proto_gz = len(gzip.compress(proto.SerializeToString()))\n",
    "    len_json_gz = len(gzip.compress(MessageToJson(proto).encode('utf-8')))\n",
    "    \n",
    "    return (len_proto, len_proto_gz, len_json, len_json_gz)\n",
    "\n",
    "sizes = [\n",
    "    test_sizes(wrapper_proto_single),\n",
    "    test_sizes(wrapper_proto_multi),\n",
    "    test_sizes(wrapper_proto_warn)\n",
    "]\n",
    "\n",
    "labels = np.tile([\"Protocol Buffers\", \"Protocol Buffers (gzip)\", \"JSON\", \"JSON (gzip)\"], 3)\n",
    "x = np.arange(len(labels))\n",
    "\n",
    "fig, ax = plt.subplots(figsize=(10,5))\n",
    "ax.legend(handles=[\n",
    "    mpatches.Patch(color='red', label='SingleLocationData'),\n",
    "    mpatches.Patch(color='blue', label='DensityMap'),\n",
    "    mpatches.Patch(color='green', label='WarnMessage')\n",
    "])\n",
    "ax.set_xticklabels(labels, rotation='vertical')\n",
    "ax.set_xticks(x)\n",
    "\n",
    "ax.bar(0, sizes[0][0], 0.8, color=\"red\")\n",
    "ax.bar(1, sizes[0][1], 0.8, color=\"red\")\n",
    "ax.bar(2, sizes[0][2], 0.8, color=\"red\")\n",
    "ax.bar(3, sizes[0][3], 0.8, color=\"red\")\n",
    "\n",
    "ax.bar(4, sizes[1][0], 0.8, color=\"blue\")\n",
    "ax.bar(5, sizes[1][1], 0.8, color=\"blue\")\n",
    "ax.bar(6, sizes[1][2], 0.8, color=\"blue\")\n",
    "ax.bar(7, sizes[1][3], 0.8, color=\"blue\")\n",
    "\n",
    "ax.bar(8, sizes[2][0], 0.8, color=\"green\")\n",
    "ax.bar(9, sizes[2][1], 0.8, color=\"green\")\n",
    "ax.bar(10, sizes[2][2], 0.8, color=\"green\")\n",
    "ax.bar(11, sizes[2][3], 0.8, color=\"green\")\n",
    "    "
   ]
  },
  {
   "cell_type": "code",
   "execution_count": 92,
   "id": "incorporate-march",
   "metadata": {},
   "outputs": [
    {
     "name": "stdout",
     "output_type": "stream",
     "text": [
      "{\n",
      "  \"single\": {\n",
      "    \"deviceId\": 3283127,\n",
      "    \"timestamp\": \"612889822\",\n",
      "    \"zoneId\": 47,\n",
      "    \"hemisphere\": true,\n",
      "    \"northing\": 16132025,\n",
      "    \"easting\": 250115,\n",
      "    \"bearing\": 36,\n",
      "    \"speed\": 15,\n",
      "    \"accuracy\": 9.520454\n",
      "  }\n",
      "}\n"
     ]
    }
   ],
   "source": [
    "print(MessageToJson(wrapper_proto_single))"
   ]
  },
  {
   "cell_type": "code",
   "execution_count": null,
   "id": "operating-camcorder",
   "metadata": {},
   "outputs": [],
   "source": []
  }
 ],
 "metadata": {
  "kernelspec": {
   "display_name": "Python 3",
   "language": "python",
   "name": "python3"
  },
  "language_info": {
   "codemirror_mode": {
    "name": "ipython",
    "version": 3
   },
   "file_extension": ".py",
   "mimetype": "text/x-python",
   "name": "python",
   "nbconvert_exporter": "python",
   "pygments_lexer": "ipython3",
   "version": "3.8.6"
  }
 },
 "nbformat": 4,
 "nbformat_minor": 5
}
