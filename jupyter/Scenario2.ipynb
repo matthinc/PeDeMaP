{
 "cells": [
  {
   "cell_type": "code",
   "execution_count": 11,
   "id": "improving-cedar",
   "metadata": {},
   "outputs": [],
   "source": [
    "import sqlite3\n",
    "import matplotlib.pyplot as plt\n",
    "\n",
    "def read_db(filename, tst):\n",
    "    connection = sqlite3.connect(filename)\n",
    "    cursor = connection.cursor()\n",
    "\n",
    "    cursor.execute(\"SELECT * FROM density_table WHERE timestamp = \" + str(tst))\n",
    "    \n",
    "    return list(cursor)\n",
    "\n",
    "def tst_range(filename):\n",
    "    connection = sqlite3.connect(filename)\n",
    "    cursor = connection.cursor()\n",
    "\n",
    "    cursor.execute(\"SELECT DISTINCT timestamp FROM density_table WHERE 1 = 1 ORDER BY timestamp ASC\")\n",
    "    \n",
    "    return list(cursor)\n",
    "    \n",
    "\n",
    "def show_for_tst(filename, tst, ax):\n",
    "    dev = read_db(filename, tst)\n",
    "    \n",
    "    if len(dev) == 0:\n",
    "        return\n",
    "\n",
    "    northing = [d[1] for d in dev]\n",
    "    easting  = [d[2] for d in dev]\n",
    "    \n",
    "    minN = min(northing) - 25\n",
    "    minE = min(easting) - 25\n",
    "    maxN = minN + 100\n",
    "    maxE = minE + 100\n",
    "\n",
    "    colors = [d[4] for d in dev]\n",
    "    \n",
    "    ax.set_xlim(minE, maxE)\n",
    "    ax.set_ylim(minN, maxN)\n",
    "    \n",
    "    ax.set_yticklabels([])\n",
    "    ax.set_xticklabels([])\n",
    "    \n",
    "    max_color = 3 if max(colors) >= 1 else 0.6\n",
    "\n",
    "    sc = ax.scatter(easting, northing, zorder=1, marker='s', s=130, c=colors, cmap='cool', vmin=0, vmax=max_color)\n",
    "    plt.colorbar(sc, ax=ax)\n",
    "\n",
    "    # Create sum (distinct northing easting)\n",
    "    densSum = 0\n",
    "    \n",
    "    for n in range(minN, maxN):\n",
    "        for e in range(minE, maxE):\n",
    "            \n",
    "            for dat in dev:\n",
    "                if dat[1] == n and dat[2] == e:\n",
    "                    densSum += dat[4]\n",
    "                    break\n",
    "    \n",
    "def run(offset):\n",
    "    _, subplots = plt.subplots(1, 3, figsize = (15, 4.5))\n",
    "    \n",
    "    tst = [t[0] for t in tst_range(\"scen2_dev1\")][offset]\n",
    "    \n",
    "    show_for_tst(\"scen2_dev1\", tst, subplots[0])\n",
    "    show_for_tst(\"scen2_dev2\", tst, subplots[1])\n",
    "    show_for_tst(\"scen2_dev4\", tst, subplots[2])\n",
    "            "
   ]
  },
  {
   "cell_type": "code",
   "execution_count": 12,
   "id": "engaging-valuation",
   "metadata": {},
   "outputs": [
    {
     "data": {
      "application/vnd.jupyter.widget-view+json": {
       "model_id": "0d7d036e86974b6296f5b19fafec10d3",
       "version_major": 2,
       "version_minor": 0
      },
      "text/plain": [
       "interactive(children=(IntSlider(value=0, description='offset', max=200), Output()), _dom_classes=('widget-inte…"
      ]
     },
     "metadata": {},
     "output_type": "display_data"
    }
   ],
   "source": [
    "from ipywidgets import interact, interactive, fixed, interact_manual, widgets\n",
    "\n",
    "interact(run, offset=widgets.IntSlider(min=0, max=200, step=1, value=0));"
   ]
  },
  {
   "cell_type": "code",
   "execution_count": 3,
   "id": "paperback-durham",
   "metadata": {},
   "outputs": [
    {
     "ename": "OperationalError",
     "evalue": "no such table: density_table",
     "output_type": "error",
     "traceback": [
      "\u001b[0;31m---------------------------------------------------------------------------\u001b[0m",
      "\u001b[0;31mOperationalError\u001b[0m                          Traceback (most recent call last)",
      "\u001b[0;32m<ipython-input-3-ea396d5ad108>\u001b[0m in \u001b[0;36m<module>\u001b[0;34m\u001b[0m\n\u001b[1;32m     49\u001b[0m     \u001b[0;32mreturn\u001b[0m \u001b[0;34m(\u001b[0m\u001b[0mres_sum\u001b[0m\u001b[0;34m,\u001b[0m \u001b[0mres_eq\u001b[0m\u001b[0;34m,\u001b[0m \u001b[0mres_diff1\u001b[0m\u001b[0;34m,\u001b[0m \u001b[0mres_diff2\u001b[0m\u001b[0;34m,\u001b[0m \u001b[0mres_diff3\u001b[0m\u001b[0;34m)\u001b[0m\u001b[0;34m\u001b[0m\u001b[0;34m\u001b[0m\u001b[0m\n\u001b[1;32m     50\u001b[0m \u001b[0;34m\u001b[0m\u001b[0m\n\u001b[0;32m---> 51\u001b[0;31m \u001b[0mcount_differences\u001b[0m\u001b[0;34m(\u001b[0m\u001b[0;34m\"scen2_dev1\"\u001b[0m\u001b[0;34m,\u001b[0m \u001b[0;34m\"scen2_dev2\"\u001b[0m\u001b[0;34m)\u001b[0m\u001b[0;34m\u001b[0m\u001b[0;34m\u001b[0m\u001b[0m\n\u001b[0m\u001b[1;32m     52\u001b[0m \u001b[0;34m\u001b[0m\u001b[0m\n\u001b[1;32m     53\u001b[0m \u001b[0;34m\u001b[0m\u001b[0m\n",
      "\u001b[0;32m<ipython-input-3-ea396d5ad108>\u001b[0m in \u001b[0;36mcount_differences\u001b[0;34m(filename1, filename2)\u001b[0m\n\u001b[1;32m     12\u001b[0m \u001b[0;34m\u001b[0m\u001b[0m\n\u001b[1;32m     13\u001b[0m \u001b[0;32mdef\u001b[0m \u001b[0mcount_differences\u001b[0m\u001b[0;34m(\u001b[0m\u001b[0mfilename1\u001b[0m\u001b[0;34m,\u001b[0m \u001b[0mfilename2\u001b[0m\u001b[0;34m)\u001b[0m\u001b[0;34m:\u001b[0m\u001b[0;34m\u001b[0m\u001b[0;34m\u001b[0m\u001b[0m\n\u001b[0;32m---> 14\u001b[0;31m     \u001b[0mtsts\u001b[0m \u001b[0;34m=\u001b[0m \u001b[0mtst_range\u001b[0m\u001b[0;34m(\u001b[0m\u001b[0mfilename1\u001b[0m\u001b[0;34m)\u001b[0m\u001b[0;34m\u001b[0m\u001b[0;34m\u001b[0m\u001b[0m\n\u001b[0m\u001b[1;32m     15\u001b[0m \u001b[0;34m\u001b[0m\u001b[0m\n\u001b[1;32m     16\u001b[0m     \u001b[0mres_eq\u001b[0m \u001b[0;34m=\u001b[0m \u001b[0;36m0\u001b[0m\u001b[0;34m\u001b[0m\u001b[0;34m\u001b[0m\u001b[0m\n",
      "\u001b[0;32m<ipython-input-1-0ef7c9c9f982>\u001b[0m in \u001b[0;36mtst_range\u001b[0;34m(filename)\u001b[0m\n\u001b[1;32m     14\u001b[0m     \u001b[0mcursor\u001b[0m \u001b[0;34m=\u001b[0m \u001b[0mconnection\u001b[0m\u001b[0;34m.\u001b[0m\u001b[0mcursor\u001b[0m\u001b[0;34m(\u001b[0m\u001b[0;34m)\u001b[0m\u001b[0;34m\u001b[0m\u001b[0;34m\u001b[0m\u001b[0m\n\u001b[1;32m     15\u001b[0m \u001b[0;34m\u001b[0m\u001b[0m\n\u001b[0;32m---> 16\u001b[0;31m     \u001b[0mcursor\u001b[0m\u001b[0;34m.\u001b[0m\u001b[0mexecute\u001b[0m\u001b[0;34m(\u001b[0m\u001b[0;34m\"SELECT DISTINCT timestamp FROM density_table WHERE 1 = 1 ORDER BY timestamp ASC\"\u001b[0m\u001b[0;34m)\u001b[0m\u001b[0;34m\u001b[0m\u001b[0;34m\u001b[0m\u001b[0m\n\u001b[0m\u001b[1;32m     17\u001b[0m \u001b[0;34m\u001b[0m\u001b[0m\n\u001b[1;32m     18\u001b[0m     \u001b[0;32mreturn\u001b[0m \u001b[0mlist\u001b[0m\u001b[0;34m(\u001b[0m\u001b[0mcursor\u001b[0m\u001b[0;34m)\u001b[0m\u001b[0;34m\u001b[0m\u001b[0;34m\u001b[0m\u001b[0m\n",
      "\u001b[0;31mOperationalError\u001b[0m: no such table: density_table"
     ]
    }
   ],
   "source": [
    "def density_data(data, minN, minE, maxN, maxE):\n",
    "    densities = []\n",
    "    \n",
    "    for n in range(minN, maxN):\n",
    "        for e in range(minE, maxE):\n",
    "            for dat in data:\n",
    "                if dat[1] == n and dat[2] == e:\n",
    "                    densities.append((n, e, dat[4]))\n",
    "                    break\n",
    "                    \n",
    "    return densities\n",
    "\n",
    "def count_differences(filename1, filename2):\n",
    "    tsts = tst_range(filename1)\n",
    "    \n",
    "    res_eq = 0\n",
    "    res_diff1 = 0\n",
    "    res_diff2 = 0\n",
    "    res_diff3 = 0\n",
    "    res_sum = 0\n",
    "    \n",
    "    for tst in tsts:\n",
    "        d1 = read_db(filename1, tst[0])\n",
    "        d2 = read_db(filename2, tst[0])\n",
    "        \n",
    "        if len(d1) == 0 or len(d2) == 0:\n",
    "            continue\n",
    "            \n",
    "        n1 = [d[1] for d in d1]\n",
    "        e1  = [d[2] for d in d1]\n",
    "            \n",
    "        d1dens = density_data(d1, min(n1), min(e1), max(n1), max(e1))\n",
    "        d2dens = density_data(d2, min(n1), min(e1), max(n1), max(e1))\n",
    "        \n",
    "        intersection = list(set(d1dens) & set(d2dens)) \n",
    "        err = len(d1dens) - len(intersection)\n",
    "        \n",
    "        if err == 0:\n",
    "            res_eq += 1\n",
    "        elif err == 1:\n",
    "            res_diff1 += 1\n",
    "        elif err == 2:\n",
    "            res_diff2 += 1\n",
    "        elif err == 3:\n",
    "            res_diff3 += 1\n",
    "            \n",
    "        res_sum += 1\n",
    "    \n",
    "    return (res_sum, res_eq, res_diff1, res_diff2, res_diff3)\n",
    "\n",
    "count_differences(\"scen2_dev1\", \"scen2_dev2\")\n",
    "        \n",
    "    "
   ]
  },
  {
   "cell_type": "code",
   "execution_count": null,
   "id": "conscious-planner",
   "metadata": {},
   "outputs": [],
   "source": []
  }
 ],
 "metadata": {
  "kernelspec": {
   "display_name": "Python 3",
   "language": "python",
   "name": "python3"
  },
  "language_info": {
   "codemirror_mode": {
    "name": "ipython",
    "version": 3
   },
   "file_extension": ".py",
   "mimetype": "text/x-python",
   "name": "python",
   "nbconvert_exporter": "python",
   "pygments_lexer": "ipython3",
   "version": "3.8.6"
  }
 },
 "nbformat": 4,
 "nbformat_minor": 5
}
