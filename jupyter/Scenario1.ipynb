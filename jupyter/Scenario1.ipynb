{
 "cells": [
  {
   "cell_type": "code",
   "execution_count": 16,
   "id": "improving-cedar",
   "metadata": {},
   "outputs": [],
   "source": [
    "import sqlite3\n",
    "import matplotlib.pyplot as plt\n",
    "\n",
    "def read_db(filename, tst):\n",
    "    connection = sqlite3.connect(filename)\n",
    "    cursor = connection.cursor()\n",
    "\n",
    "    cursor.execute(\"SELECT * FROM density_table WHERE timestamp = \" + str(tst))\n",
    "    \n",
    "    return list(cursor)\n",
    "\n",
    "def show_for_offset(offset):\n",
    "    _, ax = plt.subplots(1, figsize = (5,4.735))\n",
    "\n",
    "    dev = read_db(\"test_data/crowd_test\", 1614711669 + offset)\n",
    "    \n",
    "    if len(dev) == 0:\n",
    "        return\n",
    "\n",
    "    northing = [d[1] for d in dev]\n",
    "    easting  = [d[2] for d in dev]\n",
    "\n",
    "    # print(min(easting) - 10, max(easting) + 10)\n",
    "    # print(min(northing) - 10, max(northing) + 10)\n",
    "\n",
    "    colors = [d[4] for d in dev]\n",
    "    \n",
    "    ax.set_xlim(691550, 691615)\n",
    "    ax.set_ylim(5337730, 5337805)\n",
    "    ax.set_yticklabels([])\n",
    "    ax.set_xticklabels([])\n",
    "\n",
    "    sc = ax.scatter(easting, northing, zorder=1, marker='s', s=220, c=colors, cmap='cool', vmin=0, vmax=0.6)\n",
    "    plt.colorbar(sc)\n",
    "\n",
    "    # Create sum (distinct northing easting)\n",
    "    densSum = 0\n",
    "    \n",
    "    for n in range(5337730, 5337805):\n",
    "        for e in range(691550, 691615):\n",
    "            \n",
    "            for dat in dev:\n",
    "                if dat[1] == n and dat[2] == e:\n",
    "                    print(str(n) + \" - \" + str(e))\n",
    "                    densSum += dat[4]\n",
    "                    break\n",
    "                    \n",
    "    print(densSum)\n",
    "            "
   ]
  },
  {
   "cell_type": "code",
   "execution_count": 17,
   "id": "engaging-valuation",
   "metadata": {},
   "outputs": [
    {
     "data": {
      "application/vnd.jupyter.widget-view+json": {
       "model_id": "c1bf29962b604c94874a13bf204d4f13",
       "version_major": 2,
       "version_minor": 0
      },
      "text/plain": [
       "interactive(children=(IntSlider(value=10, description='offset', max=200), Output()), _dom_classes=('widget-int…"
      ]
     },
     "metadata": {},
     "output_type": "display_data"
    }
   ],
   "source": [
    "from ipywidgets import interact, interactive, fixed, interact_manual, widgets\n",
    "\n",
    "interact(show_for_offset, offset=widgets.IntSlider(min=0, max=200, step=1, value=10));"
   ]
  },
  {
   "cell_type": "code",
   "execution_count": null,
   "id": "consecutive-fleece",
   "metadata": {},
   "outputs": [],
   "source": []
  },
  {
   "cell_type": "code",
   "execution_count": null,
   "id": "palestinian-ordinance",
   "metadata": {},
   "outputs": [],
   "source": []
  }
 ],
 "metadata": {
  "kernelspec": {
   "display_name": "Python 3",
   "language": "python",
   "name": "python3"
  },
  "language_info": {
   "codemirror_mode": {
    "name": "ipython",
    "version": 3
   },
   "file_extension": ".py",
   "mimetype": "text/x-python",
   "name": "python",
   "nbconvert_exporter": "python",
   "pygments_lexer": "ipython3",
   "version": "3.8.6"
  }
 },
 "nbformat": 4,
 "nbformat_minor": 5
}
