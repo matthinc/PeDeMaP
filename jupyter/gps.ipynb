{
 "cells": [
  {
   "cell_type": "code",
   "execution_count": 1,
   "id": "young-emperor",
   "metadata": {},
   "outputs": [],
   "source": [
    "import sqlite3\n",
    "import matplotlib.pyplot as plt\n",
    "\n",
    "def read_gps_data_from_db(filename):\n",
    "    connection = sqlite3.connect(filename)\n",
    "    cursor = connection.cursor()\n",
    "    \n",
    "    cursor.execute(\"SELECT * FROM location_table WHERE timestamp < 1612772640\")\n",
    "    \n",
    "    return list(cursor)\n",
    "\n",
    "def read_gps_data_from_db_2(filename):\n",
    "    connection = sqlite3.connect(filename)\n",
    "    cursor = connection.cursor()\n",
    "    \n",
    "    cursor.execute(\"SELECT * FROM location_table WHERE timestamp BETWEEN 1611846940 AND 1611847200\")\n",
    "    \n",
    "    return list(cursor)\n",
    "    \n",
    "data5s5m = read_gps_data_from_db(\"5s5m\")\n",
    "data5s0m = read_gps_data_from_db(\"still_5s\")\n",
    "data15s0m = read_gps_data_from_db(\"still_15s\")\n",
    "\n",
    "data15m0s_2_good = read_gps_data_from_db_2(\"15m0s_2_good\")\n",
    "data15m0s_2_bad = read_gps_data_from_db_2(\"15m0s_2_bad\")\n"
   ]
  },
  {
   "cell_type": "code",
   "execution_count": 2,
   "id": "neither-princeton",
   "metadata": {},
   "outputs": [],
   "source": [
    "def show_points(ax, points, color):\n",
    "    lats = [p[1] for p in points]\n",
    "    lons = [p[2] for p in points]\n",
    "\n",
    "    ax.scatter(lons, lats, zorder=1, c=color, s=10)\n"
   ]
  },
  {
   "cell_type": "code",
   "execution_count": 3,
   "id": "activated-protein",
   "metadata": {},
   "outputs": [
    {
     "data": {
      "image/png": "[encoded data removed]",
      "text/plain": [
       "<Figure size 576x864 with 2 Axes>"
      ]
     },
     "metadata": {
      "needs_background": "light"
     },
     "output_type": "display_data"
    }
   ],
   "source": [
    "_, ax = plt.subplots(2, figsize = (8,12))\n",
    "\n",
    "show_points(ax[0], data5s0m, 'blue')\n",
    "show_points(ax[0], data15s0m, 'red')\n",
    "show_points(ax[0], data5s5m, 'green')\n",
    "\n",
    "BORDER = 0.0002\n",
    "\n",
    "lats = [p[1] for p in data5s0m]\n",
    "lons = [p[2] for p in data5s0m]\n",
    "\n",
    "ax[0].set_xlim(min(lons) - BORDER, max(lons) + BORDER)\n",
    "ax[0].set_ylim(min(lats) - BORDER, max(lats) + BORDER)\n",
    "ax[0].set_yticklabels([])\n",
    "ax[0].set_xticklabels([])\n",
    "\n",
    "show_points(ax[1], data15m0s_2_bad, 'red')\n",
    "show_points(ax[1], data15m0s_2_good, 'blue')\n",
    "\n",
    "ax[1].set_xlim(min(lons) - BORDER, max(lons) + BORDER)\n",
    "ax[1].set_ylim(min(lats) - BORDER, max(lats) + BORDER)\n",
    "ax[1].set_yticklabels([])\n",
    "ax[1].set_xticklabels([])\n",
    "\n",
    "pass"
   ]
  },
  {
   "cell_type": "code",
   "execution_count": 8,
   "id": "ranging-percentage",
   "metadata": {},
   "outputs": [
    {
     "data": {
      "text/plain": [
       "62"
      ]
     },
     "execution_count": 8,
     "metadata": {},
     "output_type": "execute_result"
    },
    {
     "data": {
      "image/png": "[encoded data removed]",
      "text/plain": [
       "<Figure size 576x288 with 1 Axes>"
      ]
     },
     "metadata": {
      "needs_background": "light"
     },
     "output_type": "display_data"
    }
   ],
   "source": [
    "_, ax = plt.subplots(1, figsize = (8,4))\n",
    "\n",
    "acc5m0s = [p[3] for p in data5s0m]\n",
    "# acc5m5s = [p[3] for p in data5s5m]\n",
    "acc15m0s = [p[3] for p in data15s0m]\n",
    "\n",
    "ax.hist([acc5m0s, acc15m0s], color=['blue', 'red'], bins=40,rwidth=0.9)\n",
    "\n",
    "len(acc5m0s)"
   ]
  },
  {
   "cell_type": "code",
   "execution_count": null,
   "id": "exposed-guyana",
   "metadata": {},
   "outputs": [],
   "source": []
  }
 ],
 "metadata": {
  "kernelspec": {
   "display_name": "Python 3",
   "language": "python",
   "name": "python3"
  },
  "language_info": {
   "codemirror_mode": {
    "name": "ipython",
    "version": 3
   },
   "file_extension": ".py",
   "mimetype": "text/x-python",
   "name": "python",
   "nbconvert_exporter": "python",
   "pygments_lexer": "ipython3",
   "version": "3.8.6"
  }
 },
 "nbformat": 4,
 "nbformat_minor": 5
}
